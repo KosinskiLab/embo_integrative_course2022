{
 "cells": [
  {
   "cell_type": "markdown",
   "metadata": {},
   "source": [
    "# IMP.pmi Tutorial Handout"
   ]
  },
  {
   "cell_type": "markdown",
   "metadata": {},
   "source": [
    "### Integrating EM and Crosslinking data to localize five subunits of RNA Polymerase III\n",
    "\n",
    "Authors: Riccardo Pellarin, Max Bonomi, Charles Greenberg, Daniel Saltzberg, Jan Kosinski, Ben Webb\n",
    "\n",
    " - Institut Pasteur, CNRS, C3BI\n",
    " - UCSF, Department of Bioengineering and Therapeutic Sciences"
   ]
  },
  {
   "cell_type": "markdown",
   "metadata": {},
   "source": [
    "The Python Modeling Interface (PMI) is a powerful set of tools designed\n",
    "to handle all steps of the modeling protocol for\n",
    "typical modeling problems. It is designed to be used by writing a set of\n",
    "Python scripts."
   ]
  },
  {
   "cell_type": "markdown",
   "metadata": {},
   "source": [
    "IMP.pmi has been used to determine the architecture of several macromolecular complexes, for instance:\n",
    "\n",
    "[26S-PIP](https://salilab.org/26S-PIPs), [Yeast 40S-eIF3](https://salilab.org/40S-eIF1-eIF3), [Human Complement](https://salilab.org/Complement), [exosome](https://salilab.org/exosome),\n",
    "    [yeast mediator](https://salilab.org/mediator/), [Nup84](https://salilab.org/nup84), [TFIIH](https://salilab.org/tfiih), [Nup82](https://salilab.org/nup82/), [SEA complex](https://salilab.org/sea), and the [Nuclear Pore Complex](https://salilab.org/npc2018)\n",
    "    \n",
    "Each repository above contains the scripts and the data, as well as all the results, that are needed to reproduce the published results. \n",
    "\n",
    "Integrative modeling studies are deposited in the [PDB-Dev database](https://pdb-dev.wwpdb.org/), which is run by wwPDB. These deposits may link to auxiliary files in other databases (e.g. EMDB, SASBDB) or by DOI (e.g. Zenodo)."
   ]
  },
  {
   "cell_type": "markdown",
   "metadata": {},
   "source": [
    "We will illustrate the use of IMP.pmi by determining the localization of five\n",
    "subunits of RNA Polymerase III. In the first part we will be utilizing chemical cross-linking coupled with\n",
    "mass spectrometry (XLMS) combined with comparative models of all subunits. In the second part we will also include cryo-electron microscopy (cryoEM). We will try\n",
    "to determine the architecture of the complex,\n",
    "hypothesizing that we know the architecture of the core, and aiming to localize the position of C53, C37, C34, C82, and C31. The example can be easily generalized to any other set of subunits.\n",
    "\n",
    "> The quoted text (grey lateral bar) refers to the EM modeling parts, and can be skipped if the modelling is performed only using crosslinks\n",
    "\n",
    "\n",
    "For more information on IMP.pmi, see [Saltzberg et al. 2018](https://salilab.org/pdf/Saltzberg_MethodsMolBiol_2019.pdf) or [Bonomi et al. 2018](https://salilab.org/pdf/Bonomi_Structure_2018.pdf).\n",
    "\n",
    "\n",
    "\n",
    "## Installation\n",
    "\n",
    "The current version of the tutorial is tested with IMP 2.17. This version can be installed on many plaforms using [Anaconda](https://anaconda.org/salilab/imp), which provides all the dependencies.\n",
    "\n",
    "To work through the example on your own system, you will need the following\n",
    "packages installed in addition to [IMP itself](https://integrativemodeling.org/nightly/doc/manual/installation.html):\n",
    "\n",
    "- [numpy and scipy](http://www.scipy.org/scipylib/download.html)\n",
    "  for matrix and linear algebra\n",
    "\n",
    "- [scikit-learn](http://scikit-learn.org/stable/install.html)\n",
    "  for k-means clustering\n",
    "\n",
    "- [matplotlib](http://matplotlib.org/downloads.html)\n",
    "  for plotting results\n",
    "\n",
    "- [Chimera](https://www.cgl.ucsf.edu/chimera/download.html)\n",
    "  for visualization of results\n",
    "\n",
    "On a Mac you can get them using the\n",
    "[pip](https://pypi.python.org/pypi/pip) tool, e.g. by running a command like\n",
    "`sudo easy_install pip`, then install the packages with something like\n",
    "`sudo pip install scikit-learn; sudo pip install matplotlib`. `numpy` and `scipy` are already installed on modern Macs. Something\n",
    "similar may also work on a Linux box, although it's probably better to install\n",
    "the packages using the distribution's package manager, such as `yum` or\n",
    "`apt-get`.)\n",
    "\n",
    "Then download the input files, either by \n",
    "[cloning the GitHub repository](https://github.com/Pellarin/imp_tutorial_pol3/tree/master)\n",
    "or by [downloading the zip file](https://github.com/Pellarin/imp_tutorial_pol3/archive/master.zip)."
   ]
  },
  {
   "cell_type": "markdown",
   "metadata": {},
   "source": [
    "## Colab Installation\n",
    "\n",
    "To install IMP and related modules in a google colab framework, run the following script\n",
    "\n"
   ]
  },
  {
   "cell_type": "code",
   "execution_count": null,
   "metadata": {},
   "outputs": [],
   "source": [
    "!pip install -q condacolab\n",
    "import condacolab\n",
    "condacolab.install()\n",
    "!conda install -c salilab imp\n",
    "!conda install matplotlib\n",
    "!git clone https://github.com/Pellarin/imp_tutorial_pol3.git\n",
    "%cd imp_tutorial_pol3/rnapoliii/modeling"
   ]
  },
  {
   "cell_type": "markdown",
   "metadata": {},
   "source": [
    "## Content of this repository"
   ]
  },
  {
   "cell_type": "markdown",
   "metadata": {},
   "source": [
    "A short tutorial introduction IMP is in the `doc` directory. The rnapoliii example scripts are contained in the directory `rnapoliii/modeling`. The advanced analysis is contained in the `rnapoliii/analysis`, and the deposition tutorial is in `rnapoliii/deposition`."
   ]
  },
  {
   "cell_type": "markdown",
   "metadata": {},
   "source": [
    "## Table of Contents\n",
    "\n",
    "[//]: # (To compile the Table of Content run `python tools/compile_toc.py Tutorial.ipynb` and paste the output here below)\n",
    "\n",
    "&nbsp;&nbsp;&nbsp;&nbsp;&nbsp;&nbsp;&nbsp;&nbsp;&nbsp;&nbsp;&nbsp;&nbsp;[ Background of RNA Polymerase III ](#3_Background_of_RNA_Polymerase_III)\n",
    "\n",
    "&nbsp;&nbsp;&nbsp;&nbsp;&nbsp;&nbsp;&nbsp;&nbsp;&nbsp;&nbsp;&nbsp;&nbsp;&nbsp;&nbsp;&nbsp;&nbsp;&nbsp;&nbsp;[ Integrative Modeling using IMP ](#4_Integrative_Modeling_using_IMP)\n",
    "\n",
    "&nbsp;&nbsp;&nbsp;&nbsp;&nbsp;&nbsp;&nbsp;&nbsp;&nbsp;&nbsp;&nbsp;&nbsp;&nbsp;&nbsp;&nbsp;&nbsp;&nbsp;&nbsp;[ The four stages of Integrative Modeling ](#3_The_four_stages_of_Integrative_Modeling)\n",
    "\n",
    "&nbsp;&nbsp;&nbsp;&nbsp;&nbsp;&nbsp;&nbsp;&nbsp;&nbsp;&nbsp;&nbsp;&nbsp;&nbsp;&nbsp;&nbsp;&nbsp;&nbsp;&nbsp;[ Running the script ](#3_Running_the_script)\n",
    "\n",
    "&nbsp;&nbsp;&nbsp;&nbsp;&nbsp;&nbsp;&nbsp;&nbsp;&nbsp;&nbsp;&nbsp;&nbsp;[ Stage 1 - Gathering of data ](#Stage_1_2)\n",
    "\n",
    "&nbsp;&nbsp;&nbsp;&nbsp;&nbsp;&nbsp;&nbsp;&nbsp;&nbsp;&nbsp;&nbsp;&nbsp;&nbsp;&nbsp;&nbsp;&nbsp;&nbsp;&nbsp;[ Data for yeast RNA Polymerase III ](#Data_rnapoliii_3)\n",
    "\n",
    "&nbsp;&nbsp;&nbsp;&nbsp;&nbsp;&nbsp;&nbsp;&nbsp;&nbsp;&nbsp;&nbsp;&nbsp;[ Stage 2 - Representation of subunits and translation of the data into spatial restraints ](#Stage_2_2)\n",
    "\n",
    "&nbsp;&nbsp;&nbsp;&nbsp;&nbsp;&nbsp;&nbsp;&nbsp;&nbsp;&nbsp;&nbsp;&nbsp;&nbsp;&nbsp;&nbsp;&nbsp;&nbsp;&nbsp;[ Setting up Model Representation and Degrees of Freedom in IMP ](#Setting_up_3)\n",
    "\n",
    "&nbsp;&nbsp;&nbsp;&nbsp;&nbsp;&nbsp;&nbsp;&nbsp;&nbsp;&nbsp;&nbsp;&nbsp;&nbsp;&nbsp;&nbsp;&nbsp;&nbsp;&nbsp;[ Hierarchy ](#Hierarchy_3)\n",
    "\n",
    "&nbsp;&nbsp;&nbsp;&nbsp;&nbsp;&nbsp;&nbsp;&nbsp;&nbsp;&nbsp;&nbsp;&nbsp;&nbsp;&nbsp;&nbsp;&nbsp;&nbsp;&nbsp;[ Dissecting the script ](#Dissecting_the_script_3)\n",
    "\n",
    "&nbsp;&nbsp;&nbsp;&nbsp;&nbsp;&nbsp;&nbsp;&nbsp;&nbsp;&nbsp;&nbsp;&nbsp;&nbsp;&nbsp;&nbsp;&nbsp;&nbsp;&nbsp;&nbsp;&nbsp;&nbsp;&nbsp;&nbsp;&nbsp;[ Model Representation Using a Topology File. ](#Topology_file_4)\n",
    "\n",
    "&nbsp;&nbsp;&nbsp;&nbsp;&nbsp;&nbsp;&nbsp;&nbsp;&nbsp;&nbsp;&nbsp;&nbsp;&nbsp;&nbsp;&nbsp;&nbsp;&nbsp;&nbsp;&nbsp;&nbsp;&nbsp;&nbsp;&nbsp;&nbsp;[ Building the System Representation and Degrees of Freedom ](#Representation_and_DOF_4)\n",
    "\n",
    "&nbsp;&nbsp;&nbsp;&nbsp;&nbsp;&nbsp;&nbsp;&nbsp;&nbsp;&nbsp;&nbsp;&nbsp;&nbsp;&nbsp;&nbsp;&nbsp;&nbsp;&nbsp;[ Scoring Function ](#Scoring_Function_3) \n",
    "\n",
    "&nbsp;&nbsp;&nbsp;&nbsp;&nbsp;&nbsp;&nbsp;&nbsp;&nbsp;&nbsp;&nbsp;&nbsp;&nbsp;&nbsp;&nbsp;&nbsp;&nbsp;&nbsp;&nbsp;&nbsp;&nbsp;&nbsp;&nbsp;&nbsp;[ Connectivity Restraint ](#Connectivity_Restraint_4) \n",
    "\n",
    "&nbsp;&nbsp;&nbsp;&nbsp;&nbsp;&nbsp;&nbsp;&nbsp;&nbsp;&nbsp;&nbsp;&nbsp;&nbsp;&nbsp;&nbsp;&nbsp;&nbsp;&nbsp;&nbsp;&nbsp;&nbsp;&nbsp;&nbsp;&nbsp;[ Excluded Volume Restraint ](#Excluded_Volume_Restraint_4) \n",
    "\n",
    "&nbsp;&nbsp;&nbsp;&nbsp;&nbsp;&nbsp;&nbsp;&nbsp;&nbsp;&nbsp;&nbsp;&nbsp;&nbsp;&nbsp;&nbsp;&nbsp;&nbsp;&nbsp;&nbsp;&nbsp;&nbsp;&nbsp;&nbsp;&nbsp;[ Crosslinks - dataset 1 ](#Crosslink_1_4)\n",
    "\n",
    "&nbsp;&nbsp;&nbsp;&nbsp;&nbsp;&nbsp;&nbsp;&nbsp;&nbsp;&nbsp;&nbsp;&nbsp;&nbsp;&nbsp;&nbsp;&nbsp;&nbsp;&nbsp;&nbsp;&nbsp;&nbsp;&nbsp;&nbsp;&nbsp;[ Crosslinks - dataset 2 ](#Crosslink_2_4)\n",
    "\n",
    "&nbsp;&nbsp;&nbsp;&nbsp;&nbsp;&nbsp;&nbsp;&nbsp;&nbsp;&nbsp;&nbsp;&nbsp;&nbsp;&nbsp;&nbsp;&nbsp;&nbsp;&nbsp;&nbsp;&nbsp;&nbsp;&nbsp;&nbsp;&nbsp;[ Electron Microscopy Restraint ](#EM_4) \n",
    "\n",
    "&nbsp;&nbsp;&nbsp;&nbsp;&nbsp;&nbsp;&nbsp;&nbsp;&nbsp;&nbsp;&nbsp;&nbsp;[ Stage 3 - Sampling ](#Sampling_2)\n",
    "\n",
    "&nbsp;&nbsp;&nbsp;&nbsp;&nbsp;&nbsp;&nbsp;&nbsp;&nbsp;&nbsp;&nbsp;&nbsp;&nbsp;&nbsp;&nbsp;&nbsp;&nbsp;&nbsp;[ Modeling Output ](#Output_3)\n",
    "\n",
    "&nbsp;&nbsp;&nbsp;&nbsp;&nbsp;&nbsp;&nbsp;&nbsp;&nbsp;&nbsp;&nbsp;&nbsp;&nbsp;&nbsp;&nbsp;&nbsp;&nbsp;&nbsp;[  Using `StatHierarchyHandler` for inline analysis ](#ProcessOutput_3)\n",
    "\n",
    "&nbsp;&nbsp;&nbsp;&nbsp;&nbsp;&nbsp;&nbsp;&nbsp;&nbsp;&nbsp;&nbsp;&nbsp;[ Stage 4 - Analysis ](#Analysis_3)\n",
    "\n",
    "&nbsp;&nbsp;&nbsp;&nbsp;&nbsp;&nbsp;&nbsp;&nbsp;&nbsp;&nbsp;&nbsp;&nbsp;&nbsp;&nbsp;&nbsp;&nbsp;&nbsp;&nbsp;[Clustering top models using `analysis.py` ](#Clustering_3)\n",
    "\n",
    "&nbsp;&nbsp;&nbsp;&nbsp;&nbsp;&nbsp;&nbsp;&nbsp;&nbsp;&nbsp;&nbsp;&nbsp;&nbsp;&nbsp;&nbsp;&nbsp;&nbsp;&nbsp;[ Structural Uncertainty of the solutions ](#uncertainty_3)\n",
    "\n",
    "&nbsp;&nbsp;&nbsp;&nbsp;&nbsp;&nbsp;&nbsp;&nbsp;&nbsp;&nbsp;&nbsp;&nbsp;&nbsp;&nbsp;&nbsp;&nbsp;&nbsp;&nbsp;[ Accuracy evaluation ](#Accuracy_3)\n",
    "\n",
    "&nbsp;&nbsp;&nbsp;&nbsp;&nbsp;&nbsp;&nbsp;&nbsp;&nbsp;&nbsp;&nbsp;&nbsp;&nbsp;&nbsp;&nbsp;&nbsp;&nbsp;&nbsp;[ Sampling Exhaustiveness ](#Sampling_Exhaustiveness_3)\n",
    "\n"
   ]
  },
  {
   "cell_type": "markdown",
   "metadata": {},
   "source": [
    "## Background of RNA Polymerase III <a name=\"3_Background_of_RNA_Polymerase_III\"></a>\n",
    "\n",
    "[RNA Pol III](http://en.wikipedia.org/wiki/RNA_polymerase_III) is a eukaryotic complex that catalyzes DNA transcription into ribosomal 5S rRNA and tRNA.  Eukaryotic RNA polymerase III contains 17 subunits. The yeast RNA Pol III dissociates into core, stalk, heterodimer (C53/C37), and heterotrimer (C82/C34/C31).\n",
    "\n",
    "\n",
    "### Integrative Modeling using IMP <a name=\"4_Integrative_Modeling_using_IMP\"></a>\n",
    "\n",
    "This example will use data from chemical cross linking, EM and comparative models to localize the 5 subunits of the RNA Polymerase III heterodimer and heterotrimer, to a fixed core of the remaining 12 subunits.  \n",
    "\n",
    "<img src=\"images/rnapoliii_scheme.png\" alt=\"Drawing\" style=\"width: 600px;\"/>\n",
    "\n",
    "### The four stages of Integrative Modeling <a name=\"3_The_four_stages_of_Integrative_Modeling\"></a>\n",
    "\n",
    "Structural modeling using IMP is divided into [four stages](https://integrativemodeling.org/2.11.1/doc/manual/intro.html#procedure).\n",
    "\n",
    "Click the links below to see a breakdown of all the modeling steps.\n",
    "\n",
    "\n",
    "* [Stage 1](#Stage_1_2)) Collect biophysical data that can be used as structural restraints and constraints\n",
    "  \n",
    "* [Stage 2](#Stage_2_2)) Define representations for the RNA Pol III structural model and define each data point as a scoring function.\n",
    "\n",
    "* [Stage 3](#Sampling_2)) Run a sampling protocol to find good scoring conformations.  \n",
    "\n",
    "* [Stage 4](#Analysis_3)) Analysis of the good scoring conformations.  Clustering; uncertainty; precision; etc..."
   ]
  },
  {
   "cell_type": "markdown",
   "metadata": {},
   "source": [
    "## Stage 1 - Gathering of data <a name=\"Stage_1_2\"></a>\n",
    "\n",
    "In this stage, we find all available experimental data that we wish to utilize in structural modeling.  In theory, any method that provides information about absolute or relative structural information can be used.\n",
    "\n",
    "### Data for yeast RNA Polymerase III <a name=\"Data_rnapoliii_3\"></a>\n",
    "The `rnapoliii/data` folder in the tutorial input files contains the data included in this example:\n",
    "\n",
    "* Sequence information (FASTA files for each subunit)\n",
    "* [10 Angstrom Electron density map](https://www.ebi.ac.uk/pdbe/entry/emdb/EMD-1804) (`.mrc`, `.txt` files)\n",
    "* [High resolution structure from comparative modeling against Pol II structure](http://www.rcsb.org/pdb/explore/explore.do?structureId=1WCM) (PDB file) see below.\n",
    "* Chemical crosslinking datasets (we use two data sets, the apo  and DNA bound complexes, both from [Ferber and Kosinski](https://www.ncbi.nlm.nih.gov/pubmed/27111507))\n",
    "\n",
    "\n",
    "**FASTA File**  \n",
    "Each residue included in modeling must be explicitly defined in the FASTA text file.  Each individual component (i.e., a protein chain) is identified by a string in the FASTA header line.\n",
    "\n",
    "    >P20434\n",
    "    MDQENERNISRLWRAFRTVKEMVKDRGYFITQEEVELPLEDFKAKYCDSMGRPQRKMMSF\n",
    "    QANPTEESISKFPDMGSLWVEFCDEPSVGVKTMKTFVIHIQEKNFQTGIFVYQNNITPSA\n",
    "    MKLVPSIPPATIETFNEAALVVNITHHELVPKHIRLSSDEKRELLKRYRLKESQLPRIQR\n",
    "    ADPVALYLGLKRGEVVKIIRKSETSGRYASYRICM\n",
    "    >P20435\n",
    "    MSDYEEAFNDGNENFEDFDVEHFSDEETYEEKPQFKDGETTDANGKTIVTGGNGPEDFQQ\n",
    "    HEQIRRKTLKEKAIPKDQRATTPYMTKYERARILGTRALQISMNAPVFVDLEGETDPLRI\n",
    "    AMKELAEKKIPLVIRRYLPDGSFEDWSVEELIVDL\n",
    "\n",
    "defines two chains with unique IDs of P20434 and P20435 respectively.  The entire complex is 17 chains and 6263 residues.\n",
    "\n",
    "> **Electron Density Map**  \n",
    "The electron density map of the entire RNA Poly III complex is at 10 Angstrom resolution.  The raw data file for this is stored in `emd_1804_10A_2010.mrc`.\n",
    "\n",
    "> <figure><img src=\"images/rnapoliii_cryoEM.png\" width=\"300px\" />\n",
    "<figcaption>_Electron microscopy density map for yeast RNA Polymerase III at 10 Ang resolution (emd 1804)_</figcaption></figure>\n",
    "    \n",
    "> **Electron Density as Gaussian Mixture Models**  \n",
    "Gaussian mixture models (GMMs) are used to greatly speed up scoring by approximating the electron density of individual subunits and experimental EM maps.  Several GMMs has been created for the experimental density map, with different numbers of Gaussians, and are stored in the `*_gmm.mrc`.  The weight, center, and covariance matrix of each Gaussian used to approximate the original EM density can be seen in the corresponding `.txt` file.  See below for explanation on how to generate GMM and how to analyse them.\n",
    "\n",
    "> <figure><img src=\"images/rnapoliii_gmm1.png\" width=\"300px\" />\n",
    "> <figcaption>_The EM data represented as a 50 Gaussian mixture model_</figcaption></figure>\n",
    "\n",
    "---\n",
    "\n",
    "> <figure><img src=\"images/rnapoliii_gmm2.png\" width=\"300px\" />\n",
    "> <figcaption>_The EM data represented as a 200 Gaussian mixture model_</figcaption></figure>\n",
    "\n",
    "---\n",
    "\n",
    "> <figure><img src=\"images/rnapoliii_gmm3.png\" width=\"300px\" />\n",
    "> <figcaption>_The EM data represented as a 800 Gaussian mixture model_</figcaption></figure>\n",
    "\n",
    "---\n",
    "\n",
    "> <figure><img src=\"images/rnapoliii_gmm4.png\" width=\"300px\" />\n",
    "> <figcaption>_The EM data represented as a 3200 Gaussian mixture model_</figcaption></figure>\n",
    "\n",
    "---\n",
    "\n",
    "> <figure><img src=\"images/rnapoliii_gmm5.png\" width=\"300px\" />\n",
    "> <figcaption>_The EM data represented as a 12797 Gaussian mixture model_</figcaption></figure>\n",
    "\n",
    "\n",
    "**PDB File**  \n",
    "High resolution coordinates for all 17 chains of RNA Pol III are found in `.pdb` files.  \n",
    "\n",
    "<figure><img src=\"images/rnapoliii_native.png\" width=\"300px\" />\n",
    "<figcaption>_Native structure of Pol III [5FJA](http://www.rcsb.org/pdb/explore.do?structureId=5FJA)_</figcaption></figure>\n",
    "\n",
    "---\n",
    "\n",
    "<figure><img src=\"images/rnapoliii_core_homology.png\" width=\"300px\" />\n",
    "<figcaption>_Homology model of the core of Pol III based on [4C3I](http://www.rcsb.org/pdb/explore.do?structureId=4C3I)_</figcaption></figure>\n",
    "\n",
    "---\n",
    "\n",
    "<figure><img src=\"images/rnapoliii_C82_homology.png\" width=\"300px\" />\n",
    "<figcaption>_Homology model of C82 based on [2XUB](http://www.rcsb.org/pdb/explore.do?structureId=2XUB)_</figcaption></figure>\n",
    "\n",
    "---\n",
    "\n",
    "<figure><img src=\"images/rnapoliii_C37_C53_homology.png\" width=\"300px\" />\n",
    "<figcaption>_Homology models of the C37 C53 heterodimer based on [4C3I](http://www.rcsb.org/pdb/explore.do?structureId=4C3I)_</figcaption></figure>\n",
    "\n",
    "---\n",
    "\n",
    "<figure><img src=\"images/rnapoliii_C34_homology.png\" width=\"300px\" />\n",
    "<figcaption>_Homology model of three domains of C34 based on \n",
    "[2DK8](http://www.rcsb.org/pdb/explore.do?structureId=2DK8), \n",
    "[2DK5](http://www.rcsb.org/pdb/explore.do?structureId=2DK5), \n",
    "[1LDD](http://www.rcsb.org/pdb/explore.do?structureId=1LDD) </figcaption></figure>\n",
    "\n",
    "**Chemical Cross-Links**  \n",
    "All chemical cross-linking data is located in `FerberKosinski2016_apo.csv` and `FerberKosinski2016_apo.csv`.  These files contain multiple comma-separated columns; four of these specify the protein and residue number for each of the two linker residues. The length of the DSS/BS3 cross-linker reagent, 21 angstroms, will be specified later in the modeling script.  "
   ]
  },
  {
   "cell_type": "markdown",
   "metadata": {},
   "source": [
    "## Stage 2 - Representation of subunits and translation of the data into spatial restraints <a name=\"Stage_2_2\"></a>\n",
    "\n",
    "\n",
    "In this stage, we will initially define a representation of the system. Afterwards, we will convert the data into spatial restraints.  This is performed using the script `modeling/modeling.py` and uses the\n",
    "topology file, `topology_poliii.txt` and `topology_poliii_cryoem.txt`, to define the system components and their representation\n",
    "parameters.\n",
    "\n",
    "### Setting up Model Representation and Degrees of Freedom in IMP <a name=\"Setting_up_3\"></a>\n",
    "\n",
    "Very generally, the *representation* of a system is defined by all the variables that need to be determined based on input information, including the assignment of the system components to geometric objects (e.g. points, spheres, ellipsoids, and 3D Gaussian density functions). \n",
    "\n",
    "Our RNA Pol III representation employs **spherical beads** of varying sizes and **3D Gaussians** (if the EM data is integrated), which coarsen domains of the complex using several resolution scales simultaneously. Here below we show the representation for the Pol II case, but the same applies to Pol III.\n",
    "\n",
    "<figure><img src=\"images/rnapolii_Multi-scale_representation.png\" width=\"600px\" />\n",
    "<figcaption>_Multi-scale representation of Rpb1 subunit of RNA Pol II_</figcaption></figure>\n",
    "\n",
    "The **spatial restraints** will be applied to individual resolution scales as appropriate. \n",
    "\n",
    "Beads and Gaussians of a given domain are arranged into either a rigid body or a flexible string, based on the crystallographic structures. \n",
    "\n",
    "The GMM of a subunit is the set of all 3D Gaussians used to represent it; it will be used to calculate the EM score. The calculation of the GMM of a subunit can be done automatically in the **topology file**.\n",
    "For the purposes of this tutorial, we already created these for all subunits and placed them in the `rnapoliii/data` directory in their respective `.mrc` and `.txt` files (eg, `ABC14.5.0.txt`). \n",
    "\n",
    "In a **rigid body**, all the beads and the Gaussians of a given domain have their relative distances constrained during configurational sampling, while in a **flexible string** the beads and the Gaussians are restrained by the sequence connectivity. \n",
    "\n",
    "\n",
    "<figure><img src=\"images/rnapolii_rb.png\" width=\"300px\" />\n",
    "<figcaption>_Rigid Bodies and beads_</figcaption></figure>\n",
    "\n",
    "**super rigid bodies** are sets of rigid bodies and beads that will move together in an additional Monte Carlo move.\n",
    "\n",
    "<figure><img src=\"images/rnapolii_srb.png\" width=\"300px\" />\n",
    "<figcaption>_Super Rigid Bodies_</figcaption></figure>\n",
    "\n",
    "**chain_of_super_rigid_bodies** are additional degrees of freedom along the connectivity chain of a subunit. It groups sequence-connected rigid domains and/or beads into overlapping pairs and triplets. Each of these groups will be moved rigidly. This mover helps to sample more efficiently complex topologies, made of several rigid bodies, connected by flexible linkers.\n",
    "\n",
    "<figure><img src=\"images/rnapolii_cosrb.png\" width=\"300px\" />\n",
    "<figcaption>_Chain of Super Rigid Bodies_</figcaption></figure>\n",
    "\n",
    "\n",
    "### Hierarchy <a name=\"Hierarchy_3\"></a>\n",
    "\n",
    "A hierarchy in IMP is a tree that stores information on molecules, residues, atoms, etc., where the resolution of the representation increases as you move further from the root. IMP.pmi was designed to support a specialised multi-state/multi-copy/multi-resolution hierarchy\n",
    "\n",
    "<figure><img src=\"images/rnapolii_hierarchy.png\" width=\"600px\" />\n",
    "<figcaption>_PMI hierarchy_</figcaption></figure>\n",
    "\n",
    "The **States** are used as putative structural and compositional alternatives of the system. \n",
    "\n",
    "Each **State** contains the **Molecules**, and each Molecule can occur in different stochiometric **Copies** (eg. here MolA has three identical copies: MolA.0, MolA.1, and MolA.2). \n",
    "\n",
    "The **Molecules** contains structures (ie, particles with coordinates, masses and radii) classified by several **resolutions**: Atomic (Resolution 0), Residues (Resolution 1), Fragments (Resolution > 1), and the Gaussians (Densities). \n",
    "\n",
    "All structures (except the densities) are represented by Spheres with appropriate radius and mass. The resolutions concur simultanously, therefore the same part of the molecule can be represented by several resolutions."
   ]
  },
  {
   "cell_type": "markdown",
   "metadata": {},
   "source": [
    "### Dissecting the script <a name=\"Dissecting_the_script_3\"></a>\n",
    "\n",
    "The Python script sets up the representation of the system and the restraint.\n",
    "\n",
    "The first part of the script import the necessary libraries."
   ]
  },
  {
   "cell_type": "code",
   "execution_count": null,
   "metadata": {},
   "outputs": [],
   "source": [
    "from __future__ import print_function\n",
    "\n",
    "import IMP\n",
    "import IMP.core\n",
    "import IMP.pmi.restraints.crosslinking\n",
    "import IMP.pmi.restraints.stereochemistry\n",
    "import IMP.pmi.tools\n",
    "\n",
    "import IMP.pmi.macros\n",
    "import IMP.pmi.topology\n",
    "\n",
    "# Hot fixes correcting minor bugs in IMP 2.17.0\n",
    "import tutorial_util\n",
    "\n",
    "import os\n",
    "import sys\n",
    "\n",
    "import warnings\n",
    "warnings.filterwarnings('ignore')"
   ]
  },
  {
   "cell_type": "markdown",
   "metadata": {},
   "source": [
    "There are two options. Either we use only the crosslinks, or we use the crosslinks with the cryoEM data. This option is encoded in the following variable, and will import relevant libraries."
   ]
  },
  {
   "cell_type": "code",
   "execution_count": null,
   "metadata": {},
   "outputs": [],
   "source": [
    "cryoEM=False\n",
    "\n",
    "if cryoEM:\n",
    "    step=1\n",
    "    import IMP.bayesianem\n",
    "    import IMP.bayesianem.restraint"
   ]
  },
  {
   "cell_type": "markdown",
   "metadata": {},
   "source": [
    "If you are running several parallel jobs in a replica exchange sampling scheme (see below in Step 3) you might use MPI library. To get the index of the current replica you need the following code."
   ]
  },
  {
   "cell_type": "code",
   "execution_count": null,
   "metadata": {},
   "outputs": [],
   "source": [
    "try:\n",
    "    import IMP.mpi\n",
    "    print('ReplicaExchange: MPI was found. Using Parallel Replica Exchange')\n",
    "    rex_obj = IMP.mpi.ReplicaExchange()\n",
    "except ImportError:\n",
    "    print('ReplicaExchange: Could not find MPI. Using Serial Replica Exchange')\n",
    "    rex_obj = IMP.pmi.samplers._SerialReplicaExchange()\n",
    "\n",
    "replica_number = rex_obj.get_my_index()"
   ]
  },
  {
   "cell_type": "markdown",
   "metadata": {},
   "source": [
    "Then setup the relevant paths of the input files. "
   ]
  },
  {
   "cell_type": "code",
   "execution_count": null,
   "metadata": {},
   "outputs": [],
   "source": [
    "datadirectory = \"../data/\"\n",
    "output_directory = \"./output\"\n",
    "\n",
    "if not cryoEM:\n",
    "    topology_file = datadirectory+\"topology_poliii.txt\" \n",
    "else:\n",
    "    topology_file = datadirectory+\"topology_poliii.cryoem.txt\" "
   ]
  },
  {
   "cell_type": "markdown",
   "metadata": {},
   "source": [
    "#### Model Representation Using a Topology File <a name=\"Topology_file_4\"></a>\n",
    "\n",
    "This part of the script defines the topology of the system, including the hierarchy, the representation and the degrees of freedom. This is the content of the file `../data/topology_poliii.txt`, which is in a table format:"
   ]
  },
  {
   "cell_type": "code",
   "execution_count": null,
   "metadata": {},
   "outputs": [],
   "source": [
    "'''\n",
    "|molecule_name|color      |fasta_fn       |fasta_id|pdb_fn                           |chain|residue_range|pdb_offset|bead_size|em_residues_per_gaussian|rigid_body|super_rigid_body|chain_of_super_rigid_bodies|\n",
    "|ABC23        |0.0,1.0,1.0|sequences.fasta|P20435  |Pol3_core_Model_on4c3i.pdb       |F    |1,END        |0         |10       |10                      |1         |1               |1                          |\n",
    "|ABC10beta    |0.5,1.0,0.5|sequences.fasta|P22139  |Pol3_core_Model_on4c3i.pdb       |J    |1,END        |0         |10       |10                      |1         |1               |1                          |\n",
    "|ABC14_5      |0.0,1.0,0.0|sequences.fasta|P20436  |Pol3_core_Model_on4c3i.pdb       |H    |1,END        |0         |10       |10                      |1         |1               |1                          |\n",
    "|ABC27        |0.8,0.1,0.6|sequences.fasta|P20434  |Pol3_core_Model_on4c3i.pdb       |E    |1,END        |0         |10       |10                      |1         |1               |1                          |\n",
    "|C25          |0.0,0.5,1.0|sequences.fasta|P35718  |Pol3_core_Model_on4c3i.pdb       |G    |1,END        |0         |10       |10                      |1         |1               |1                          |\n",
    "|AC40         |1.0,0.0,0.0|sequences.fasta|P07703  |Pol3_core_Model_on4c3i.pdb       |C    |1,END        |0         |10       |10                      |1         |1               |1                          |\n",
    "|C160         |0.7,0.7,0.7|sequences.fasta|P04051  |Pol3_core_Model_on4c3i.pdb       |A    |1,END        |0         |10       |10                      |1         |1               |1                          |\n",
    "|ABC10alpha   |0.0,0.0,1.0|sequences.fasta|P40422  |Pol3_core_Model_on4c3i.pdb       |L    |1,END        |0         |10       |10                      |1         |1               |1                          |\n",
    "|C128         |1.0,0.8,0.7|sequences.fasta|P22276  |Pol3_core_Model_on4c3i.pdb       |B    |1,END        |0         |10       |10                      |1         |1               |1                          |\n",
    "|AC19         |1.0,0.6,0.0|sequences.fasta|P28000  |Pol3_core_Model_on4c3i.pdb       |K    |1,END        |0         |10       |10                      |1         |1               |1                          |\n",
    "|C11          |1.0,1.0,0.0|sequences.fasta|Q04307  |Pol3_core_Model_on4c3i.pdb       |I    |1,END        |0         |10       |10                      |1         |1               |1                          |\n",
    "|C17          |1.0,0.0,0.5|sequences.fasta|P47076  |Pol3_core_Model_on4c3i.pdb       |D    |1,END        |0         |10       |10                      |1         |1               |1                          |\n",
    "|C31          |1.0,1.0,0.5|sequences.fasta|P17890  |BEADS                            |Q    |1,END        |0         |10       |10                      |2         |2               |2                          |\n",
    "|C34          |0.9,0.6,0.1|sequences.fasta|P32910  |C34_wHTH1_Model_on2dk8_A.pdb     |P    |1,76         |0         |10       |10                      |3         |3               |3                          |\n",
    "|C34          |0.9,0.6,0.1|sequences.fasta|P32910  |BEADS                            |P    |77,86        |0         |10       |10                      |4         |3               |3                          |\n",
    "|C34          |0.9,0.6,0.1|sequences.fasta|P32910  |C34_wHTH2_Model_on2dk5_A.pdb     |P    |87,152       |0         |10       |10                      |5         |3               |3                          |\n",
    "|C34          |0.9,0.6,0.1|sequences.fasta|P32910  |BEADS                            |P    |153,179      |0         |10       |10                      |6         |3               |3                          |\n",
    "|C34          |0.9,0.6,0.1|sequences.fasta|P32910  |C34_wHTH3_Model_on1ldd_A.pdb     |P    |180,END      |0         |10       |10                      |7         |3               |3                          |\n",
    "|C53          |0.4,0.8,1.0|sequences.fasta|P25441  |C37_C53_dimer.Model_on4c3i_MN.pdb|N    |1,END        |0         |10       |10                      |8         |8               |8                          |\n",
    "|C37          |0.6,0.1,0.6|sequences.fasta|P36121  |C37_C53_dimer.Model_on4c3i_MN.pdb|M    |1,181        |0         |10       |10                      |8         |8               |8                          |\n",
    "|C37          |0.6,0.1,0.6|sequences.fasta|P36121  |BEADS                            |     |182,END      |0         |10       |10                      |8         |8               |8                          |\n",
    "|C82          |1.0,0.3,0.0|sequences.fasta|P32349  |C82_Model_on2xub_A.pdb           |O    |1,END        |0         |10       |10                      |9         |9               |9                          |\n",
    "'''"
   ]
  },
  {
   "cell_type": "markdown",
   "metadata": {},
   "source": [
    "Using the table above we define the overall topology: we introduce the molecules with their sequence and their known structure, and define the movers. Each line is a user-defined molecular **Domain**, and each column contains the specifics needed to build the system:\n",
    "\n",
    "* `molecule_name`: Name of the Molecule and the name of the Hierarchy that contains the corresponding Domain.\n",
    "* `color`: The color used in the output coordinates file. Uses [Chimera names](https://www.cgl.ucsf.edu/chimera/docs/UsersGuide/colortables.html) (e.g. \"red\"), or R,G,B values as three comma-separated floating point numbers from 0 to 1 (e.g. \"1.0, 0.0, 0.0\") or a 6-digit hex string starting with '#' (e.g. 0xff0000).\n",
    "* `fasta_fn`: Name of the FASTA file containing the sequence for this Molecule.\n",
    "* `fasta_id`: header line of FASTA (without the \">\" character).\n",
    "* `pdb_fn`: Name of PDB file with coordinates (if available). If left empty, will set up as BEADS (you can also explictly specify \"BEADS\"). Can also write \"IDEAL_HELIX\".\n",
    "* `chain`: Chain ID of this Domain in the PDB file.\n",
    "* `residue_range`: Comma delimited pair defining the indexes of the first and the last residue of the Domain. Can leave empty or use 'all' for entire sequence from PDB file. The second item in the pair can be 'END' to select the last residue in the sequence defined in the FASTA file.\n",
    "* `pdb_offset`: PMI always numbers residues starting from 1 (to match the FASTA file). If the PDB does not match this numbering, an offset can be specified here. It is added to the PDB residue number to get the FASTA number. For example, if the first residue in the PDB file is numbered 10, use an offset of -9.\n",
    "* `bead_size`: The size (in residues) of beads used to model Fragments not covered by PDB coordinates.\n",
    "* `em_residues`: The number of Gaussians used to model the density of this domain. Can be set to zero/empty to exclude Domains from the EM restraint. The GMM files will be written to `gmm_dir`.\n",
    "* `rigid_body`: Leave empty to treat this Domain flexibly. Otherwise, use a unique Rigid Body identifier (an integer). All Domains with the same Rigid Body identifier will be collected in the same Rigid Body.\n",
    "* `super_rigid_body`: Like the Rigid Body, the user can specify a unique Super Rigid Body identifier.\n",
    "* `chain_of_super_rigid_bodies` Like the Rigid Body, the user can specify a unique Chain of Super Rigid Body identifier.\n",
    "\n",
    "The first section defines where input files are located.  The topology file defines how the system components are structurally represented. `target_gmm_file` stores the EM map for the entire complex, which has already been converted into a Gaussian mixture model."
   ]
  },
  {
   "cell_type": "code",
   "execution_count": null,
   "metadata": {},
   "outputs": [],
   "source": [
    "# Initialize IMP model\n",
    "m = IMP.Model()\n",
    "\n",
    "# Read in the topology file.  \n",
    "# Specify the directory where the PDB files, FASTA files and GMM files are\n",
    "topology = IMP.pmi.topology.TopologyReader(topology_file, \n",
    "                                  pdb_dir=datadirectory, \n",
    "                                  fasta_dir=datadirectory, \n",
    "                                  gmm_dir=datadirectory)"
   ]
  },
  {
   "cell_type": "code",
   "execution_count": null,
   "metadata": {},
   "outputs": [],
   "source": [
    "# Use the BuildSystem macro to build states from the topology file\n",
    "bs = IMP.pmi.macros.BuildSystem(m)"
   ]
  },
  {
   "cell_type": "code",
   "execution_count": null,
   "metadata": {},
   "outputs": [],
   "source": [
    "# Each state can be specified by a topology file.\n",
    "bs.add_state(topology)"
   ]
  },
  {
   "cell_type": "markdown",
   "metadata": {},
   "source": [
    "#### Building the System Representation and Degrees of Freedom <a name=\"Representation_and_DOF_4\"></a>\n",
    "\n",
    "Here we can set the **Degrees of Freedom** parameters, which should be\n",
    "optimized according to MC acceptance ratios. There are three kind of movers: Rigid Body, Bead, and Super Rigid Body. \n",
    "\n",
    "`max_rb_trans` and `max_rb_rot` are the \n",
    "maximum translation and rotation of the Rigid Body mover, `max_srb_trans` and \n",
    "`max_srb_rot` are the maximum translation and rotation of the Super Rigid Body mover\n",
    "and `max_bead_trans` is the maximum translation of the Bead Mover.\n",
    "\n",
    "The excecution of the macro will create the representation (as a molecular hierarchy) by reading the topology file, then return the root of this hierarchy (`root_hier`) and the degrees of freedom (`dof`) objects, both of which are used later on.\n"
   ]
  },
  {
   "cell_type": "code",
   "execution_count": null,
   "metadata": {},
   "outputs": [],
   "source": [
    "root_hier, dof = bs.execute_macro(max_rb_trans=4.0, \n",
    "                                  max_rb_rot=0.3, \n",
    "                                  max_bead_trans=4.0, \n",
    "                                  max_srb_trans=4.0,\n",
    "                                  max_srb_rot=0.3)"
   ]
  },
  {
   "cell_type": "markdown",
   "metadata": {},
   "source": [
    "At this point we have created the complete representation of the system. The representation should look like the following in Chimera."
   ]
  },
  {
   "cell_type": "markdown",
   "metadata": {},
   "source": [
    "<figure><img src=\"images/rnapoliii_representation_total.png\" width=\"300px\" />\n",
    "<figcaption>_Domain Representation of the whole complex in its final modelled conformation_</figcaption></figure>\n",
    "\n",
    "---\n",
    "\n",
    "<figure><img src=\"images/rnapoliii_representation_core.png\" width=\"300px\" />\n",
    "<figcaption>_Domain Representation of the core_</figcaption></figure>\n",
    "\n",
    "---\n",
    "\n",
    "<figure><img src=\"images/rnapoliii_representation_c31.png\" width=\"300px\" />\n",
    "<figcaption>_Domain Representation of C31_</figcaption></figure>\n",
    "\n",
    "---\n",
    "\n",
    "<figure><img src=\"images/rnapoliii_representation_c34.png\" width=\"300px\" />\n",
    "<figcaption>_Domain Representation of C34_</figcaption></figure>\n",
    "\n",
    "---\n",
    "\n",
    "<figure><img src=\"images/rnapoliii_representation_c53_c37.png\" width=\"300px\" />\n",
    "<figcaption>_Domain Representation of C53/C37 heterodimer_</figcaption></figure>\n",
    "\n",
    "---\n",
    "\n",
    "<figure><img src=\"images/rnapoliii_representation_c82.png\" width=\"300px\" />\n",
    "<figcaption>_Domain Representation of C82_</figcaption></figure>\n"
   ]
  },
  {
   "cell_type": "markdown",
   "metadata": {},
   "source": [
    "We can display the representation of the system along the sequence. Each color corresponds to a domain of the complex assigned to an individual rigid body. White spaces are the beads."
   ]
  },
  {
   "cell_type": "code",
   "execution_count": null,
   "metadata": {},
   "outputs": [],
   "source": [
    "%matplotlib inline\n",
    "\n",
    "import IMP.pmi.plotting\n",
    "import IMP.pmi.plotting.topology\n",
    "\n",
    "IMP.pmi.plotting.topology.draw_component_composition(dof)"
   ]
  },
  {
   "cell_type": "markdown",
   "metadata": {},
   "source": [
    "We randomize the initial configuration to remove any bias from the initial starting configuration read from input files. Since each subunit is composed of rigid bodies (i.e., beads constrained in a structure) and flexible beads, the configuration of the system is initialized by displacing each mobile rigid body and each bead randomly by 50 Angstroms, rotating them randomly, and moving them far enough from each other to prevent any steric clashes. \n",
    "\n",
    "The system will look like this after the initial randomization:\n",
    "\n",
    "<figure><img src=\"images/rnapoliii_initial.png\" width=\"600px\" />\n",
    "<figcaption>_Initial random configuration_</figcaption></figure>"
   ]
  },
  {
   "cell_type": "code",
   "execution_count": null,
   "metadata": {},
   "outputs": [],
   "source": [
    "# Shuffle the rigid body and beads configuration for all molecules\n",
    "\n",
    "# if you use XL only \n",
    "if not cryoEM:\n",
    "    IMP.pmi.tools.shuffle_configuration(root_hier,\n",
    "                                        max_translation=50, \n",
    "                                        verbose=False,\n",
    "                                        cutoff=5.0,\n",
    "                                        niterations=100)\n",
    "\n",
    "# otherwise you radomize only if you start a new cryoEM-XL modeling\n",
    "else:\n",
    "    if step==1:\n",
    "        # Shuffle the rigid body configuration of only the molecules we are interested in (Rpb4 and Rpb7)\n",
    "        # but all flexible beads will also be shuffled.\n",
    "        IMP.pmi.tools.shuffle_configuration(root_hier,\n",
    "                                        max_translation=300,\n",
    "                                        verbose=True,\n",
    "                                        cutoff=5.0,\n",
    "                                        niterations=100)\n",
    "                                        #excluded_rigid_bodies=fixed_rbs,\n",
    "\n",
    "\n",
    "    else:\n",
    "        rh_ref = RMF.open_rmf_file_read_only('seed_%d.rmf3'%(step-1))\n",
    "        IMP.rmf.link_hierarchies(rh_ref, [root_hier])\n",
    "        IMP.rmf.load_frame(rh_ref, RMF.FrameID(replica_number))"
   ]
  },
  {
   "cell_type": "markdown",
   "metadata": {},
   "source": [
    "### Scoring Function <a name=\"Scoring_Function_3\"></a>"
   ]
  },
  {
   "cell_type": "markdown",
   "metadata": {},
   "source": [
    "After defining the representation of the model, we build the **restraints** by which the individual structural models will be scored based on the input data.\n",
    "\n",
    "The sum of all of these restraints is our **scoring function**. \n",
    "For all restraints, calling `add_to_model()` incorporates them into the scoring function.\n",
    "Appending the restraints to the `outputobjects` list reports them in the log files produced in the sampling."
   ]
  },
  {
   "cell_type": "code",
   "execution_count": null,
   "metadata": {},
   "outputs": [],
   "source": [
    "outputobjects = [] # reporter objects...output is included in the stat file"
   ]
  },
  {
   "cell_type": "markdown",
   "metadata": {},
   "source": [
    "#### Connectivity Restraint <a name=\"Connectivity_Restraint_4\"></a>"
   ]
  },
  {
   "cell_type": "code",
   "execution_count": null,
   "metadata": {},
   "outputs": [],
   "source": [
    "# Connectivity keeps things connected along the backbone (ignores if inside same rigid body)\n",
    "mols = IMP.pmi.tools.get_molecules(root_hier)\n",
    "for mol in mols:\n",
    "    molname=mol.get_name()        \n",
    "    IMP.pmi.tools.display_bonds(mol)\n",
    "    cr = IMP.pmi.restraints.stereochemistry.ConnectivityRestraint(mol,scale=2.0)\n",
    "    cr.add_to_model()\n",
    "    cr.set_label(molname)\n",
    "    outputobjects.append(cr)"
   ]
  },
  {
   "cell_type": "markdown",
   "metadata": {},
   "source": [
    "#### Excluded Volume Restraint <a name=\"Excluded_Volume_Restraint_4\"></a>\n",
    "\n",
    "This restraint simply keeps subunits from occupying the same space. We can safely apply this to the low-resolution representation of the system, for speed."
   ]
  },
  {
   "cell_type": "code",
   "execution_count": null,
   "metadata": {},
   "outputs": [],
   "source": [
    "ev = IMP.pmi.restraints.stereochemistry.ExcludedVolumeSphere(\n",
    "                                         included_objects=root_hier,\n",
    "                                         resolution=10)\n",
    "ev.add_to_model()         # add to scoring function\n",
    "outputobjects.append(ev)  # add to output"
   ]
  },
  {
   "cell_type": "markdown",
   "metadata": {},
   "source": [
    "#### Crosslinks - dataset 1 <a name=\"Crosslink_1_4\"></a>\n",
    "\n",
    "A crosslinking restraint is implemented as a distance restraint between two residues.  The two residues are each defined by the protein (component) name and the residue number.  The script here extracts the correct four columns that provide this information from the input data file, plus additional data if available such as a confidence score.\n",
    "\n",
    "To use this restraint we have to first define the data format.  \n",
    " \n",
    "In this case the data file, `data/FerberKosinski2016_apo.csv` is in a simple comma-separated variable (CSV) format, an excerpt of which is shown below:\n",
    "\n",
    "```\n",
    "Protein1,Protein2,AbsPos1,AbsPos2,ld-Score\n",
    "C128,C53,570,370,50.4\n",
    "C82,C34,313,204,47.18\n",
    "...\n",
    "```"
   ]
  },
  {
   "cell_type": "code",
   "execution_count": null,
   "metadata": {},
   "outputs": [],
   "source": [
    "# We then initialize a CrossLinkDataBase that uses a keywords converter to map column to information.\n",
    "# The required fields are the protein and residue number for each side of the crosslink.\n",
    "xldbkwc = IMP.pmi.io.crosslink.CrossLinkDataBaseKeywordsConverter()\n",
    "xldbkwc.set_protein1_key(\"Protein1\")\n",
    "xldbkwc.set_protein2_key(\"Protein2\")\n",
    "xldbkwc.set_residue1_key(\"AbsPos1\")\n",
    "xldbkwc.set_residue2_key(\"AbsPos2\")\n",
    "xldbkwc.set_id_score_key(\"ld-Score\")\n",
    "\n",
    "xl1 = IMP.pmi.io.crosslink.CrossLinkDataBase(xldbkwc)\n",
    "xl1.create_set_from_file(datadirectory+'FerberKosinski2016_apo.csv')\n",
    "xl1.set_name(\"APO\")\n",
    "\n",
    "xl2 = IMP.pmi.io.crosslink.CrossLinkDataBase(xldbkwc)\n",
    "xl2.create_set_from_file(datadirectory+'FerberKosinski2016_DNA.csv')\n",
    "xl2.set_name(\"DNA\")\n",
    "\n",
    "# Append the xl2 dataset to the xl1 dataset to create a larger dataset\n",
    "xl1.append_database(xl2)\n",
    "\n",
    "# Rename one protein name\n",
    "xl1.rename_proteins({\"ABC14.5\":\"ABC14_5\"})\n",
    "\n",
    "# Create 3 confidence classes\n",
    "xl1.classify_crosslinks_by_score(3)\n",
    "\n",
    "# Now, we set up the restraint.\n",
    "xl1rest = IMP.pmi.restraints.crosslinking.CrossLinkingMassSpectrometryRestraint(\n",
    "                                   root_hier=root_hier,  # The root hierarchy\n",
    "                                   database=xl1,# The XLDB defined above\n",
    "                                   length=21.0,          # Length of the linker in angstroms\n",
    "                                   slope=0.002,          # A linear term that biases XLed\n",
    "                                                         # residues together\n",
    "                                   resolution=1.0,       # Resolution at which to apply the restraint. \n",
    "                                                         # Either 1 (residue) or 0 (atomic)\n",
    "                                   label=\"XL\",           # Used to label output in the stat file\n",
    "                                   weight=10.)           # Weight applied to all crosslinks \n",
    "                                                         # in this dataset\n",
    "xl1rest.add_to_model()\n",
    "outputobjects.append(xl1rest)\n"
   ]
  },
  {
   "cell_type": "markdown",
   "metadata": {},
   "source": [
    "> #### Electron Microscopy Restraint <a name=\"EM_4\"></a>\n",
    ">\n",
    "> The [GaussianEMRestraint](https://integrativemodeling.org/nightly/doc/ref/classIMP_1_1isd_1_1GaussianEMRestraint.html) uses a density overlap function to compare model to data.\n",
    "First the EM map is approximated with a Gaussian Mixture Model (GMM, done separately).\n",
    "Second, the components of the model are represented with Gaussians (forming the model GMM).\n",
    ">\n",
    "> * `slope`: nudge model closer to map when far away\n",
    "> * `weight`: heuristic, needed to calibrate the EM restraint with the other terms. \n",
    ">\n",
    "> and then add it to the Model and output objects.\n",
    "> The restraint is fully described in this paper [Bonomi et al. 2018](https://salilab.org/pdf/Bonomi_Structure_2018.pdf).\n",
    ">\n",
    "> The GMMs are computed using an adapted version of [gmconvert](https://pdbj.org/gmfit/doc_gmconvert/README_gmconvert.html) which exploits a divide and conquer approach [recursive-gmconvert](https://gitlab.pasteur.fr/rpellari/recursive-gmconvert).\n",
    ">\n",
    "> The GMMs are computed using an increasing number of Gaussians. The optimal number of Gaussians is chosen as the one that reproduces the same resolution as the original map.\n",
    ">\n",
    "> <figure><img src=\"images/resolution_analysis.png\" width=\"600px\" />\n",
    "> <figcaption>_Searching for the optimal number of Gaussians. Left. the Fourier Shell Correlation is computed between the experimental map and the GMM (each curve has a different number of components). Right. Resolution against the number of components_</figcaption></figure>"
   ]
  },
  {
   "cell_type": "code",
   "execution_count": null,
   "metadata": {},
   "outputs": [],
   "source": [
    "# First, get the model density objects that will be fitted to the EM density.\n",
    "\n",
    "if cryoEM:\n",
    "    target_gmm_file=datadirectory+'%d_imp.gmm'%(step)\n",
    "    # First, get the model density objects that will be fitted to the EM density.\n",
    "    densities = IMP.atom.Selection(root_hier, representation_type=IMP.atom.DENSITIES).get_selected_particles()\n",
    "    gem = IMP.bayesianem.restraint.GaussianEMRestraintWrapper(densities,\n",
    "                                                 target_fn=target_gmm_file,\n",
    "                                                 scale_target_to_mass=True,\n",
    "                                                 slope=0.01,\n",
    "                                                 target_radii_scale=3.0,\n",
    "                                                 target_is_rigid_body=False)\n",
    "\n",
    "    gem.add_to_model()\n",
    "    gem.set_label(\"Total\")\n",
    "    outputobjects.append(gem)"
   ]
  },
  {
   "cell_type": "markdown",
   "metadata": {},
   "source": [
    "## Stage 3 - Sampling <a name=\"Sampling_2\"></a>\n",
    "\n",
    "With the system representation built and data restraints entered, the system is now ready to sample configurations. A replica exchange run can be set up using the [ReplicaExchange0](https://integrativemodeling.org/nightly/doc/ref/classIMP_1_1pmi_1_1macros_1_1ReplicaExchange0.html) macro. (Follow that link for a full description of all of the input parameters.)\n",
    "\n",
    "Replica exchange greatly improves the sampling (see [wikipedia](https://en.wikipedia.org/wiki/Parallel_tempering) for a superficial description).\n",
    "\n",
    "<figure><img src=\"images/rnapoliii_replica_exchange.png\" width=\"600px\" />\n",
    "\n",
    "The sampling is performed by executing the macro:\n",
    "\n",
    "```mc1.execute_macro()```\n"
   ]
  },
  {
   "cell_type": "code",
   "execution_count": null,
   "metadata": {},
   "outputs": [],
   "source": [
    "# total number of saved frames\n",
    "num_frames = 5\n",
    "\n",
    "# This object defines all components to be sampled as well as the sampling protocol\n",
    "mc1=IMP.pmi.macros.ReplicaExchange0(m,\n",
    "              root_hier=root_hier,                         # The root hierarchy\n",
    "              monte_carlo_sample_objects=dof.get_movers()+xl1rest.get_movers(), # All moving particles and parameters\n",
    "              output_objects=outputobjects,                # Objects to put into the stat file\n",
    "              rmf_output_objects=outputobjects,            # Objects to put into the rmf file\n",
    "              monte_carlo_temperature=1.0,   \n",
    "              replica_exchange_minimum_temperature=1.0,\n",
    "              replica_exchange_maximum_temperature=2.5,              \n",
    "              simulated_annealing=False,\n",
    "              number_of_best_scoring_models=0,\n",
    "              monte_carlo_steps=10,\n",
    "              number_of_frames=num_frames,\n",
    "              save_coordinates_mode=\"25th_score\",\n",
    "              global_output_directory=output_directory)\n",
    "\n",
    "# Start Sampling\n",
    "mc1.execute_macro()"
   ]
  },
  {
   "cell_type": "markdown",
   "metadata": {},
   "source": [
    "> The cryoEM modeling is slightly different. It uses an iterative approach where the model is refined using GMMs with an increasing number of components. At the end of each calculation a seed is generated (see below), and used to start a new modeling run.\n",
    ">\n",
    "> <figure><img src=\"images/rnapoliii_sampling_cryoem.png\" width=\"600px\" />\n",
    "> <figcaption>_Iterative refinement based on seeding/increasing the components in the GMM_</figcaption></figure>"
   ]
  },
  {
   "cell_type": "markdown",
   "metadata": {},
   "source": [
    "### Modeling Output <a name=\"Output_3\"></a>\n",
    "\n",
    "The script generates an output directory containing the following:\n",
    "\n",
    "* `pdbs`: a directory containing the 10 best-scoring models (see the `number_of_best_scoring_models` variable above) from the run, in PDB format.\n",
    "* `rmfs`: a single RMF file containing all the frames. RMF is a file format specially designed to store coarse-grained, multi-resolution and multi-state models such as those generated by IMP. It is a compact binary format and (as in this case) can also be used to store multiple models or trajectories. It stores the hierarchy and the coordinates of the particles, as well as information on each restraint, MC acceptance criteria and other things at each step.\n",
    "* Statistics from the sampling, contained in a \"statfile\", `stat.*.out`. "
   ]
  },
  {
   "cell_type": "markdown",
   "metadata": {},
   "source": [
    "### Using `StatHierarchyHandler` for inline analysis <a name=\"ProcessOutput_3\"></a>\n",
    "\n",
    "We can use the class StatHierarchyHandler to analyse and plot the content of the RMF files.\n",
    "This class coordinates the structures that have been generated \n",
    "and all the features that have been saved during the modeling run. It is a Hierarchy object, but it works like a list.\n",
    "The Python script can be found in `modeling/short_analysis.py`."
   ]
  },
  {
   "cell_type": "code",
   "execution_count": null,
   "metadata": {},
   "outputs": [],
   "source": [
    "import IMP.pmi.output\n",
    "\n",
    "hh=IMP.pmi.output.StatHierarchyHandler(m,\"./output/rmfs/0.rmf3\")\n",
    "\n",
    "#Total number of frames\n",
    "print(\"Frames\",len(hh))\n",
    "\n",
    "# Describe the content of the first frame of the rmf file\n",
    "print(hh[0])\n",
    "\n",
    "#list down all the features names\n",
    "for k in hh[0].features.keys(): print(k)\n",
    "    \n"
   ]
  },
  {
   "cell_type": "markdown",
   "metadata": {},
   "source": [
    "We can use the class [IMP.atom.Selection](https://integrativemodeling.org/nightly/doc/ref/classIMP_1_1atom_1_1Selection.html) to analyse the structures generated. "
   ]
  },
  {
   "cell_type": "code",
   "execution_count": null,
   "metadata": {},
   "outputs": [],
   "source": [
    "# For instance we can compute the distance between two residues\n",
    "\n",
    "%pylab inline\n",
    "\n",
    "p0=IMP.atom.Selection(hh,molecule=\"C31\",residue_index=10).get_selected_particles()[0]\n",
    "p1=IMP.atom.Selection(hh,molecule=\"C34\",residue_index=10).get_selected_particles()[0]\n",
    "\n",
    "d0=IMP.core.XYZ(p0)\n",
    "d1=IMP.core.XYZ(p1)\n",
    "\n",
    "#note that hh can be used as a list\n",
    "plot([IMP.core.get_distance(d0,d1) for h in hh]);\n",
    "\n",
    "figure()\n",
    "\n",
    "# Or we can get the radius of gyration of the whole complex\n",
    "ps=IMP.atom.Selection(hh).get_selected_particles()\n",
    "plot([IMP.atom.get_radius_of_gyration(ps) for h in hh])\n"
   ]
  },
  {
   "cell_type": "markdown",
   "metadata": {},
   "source": [
    "Next, we plot the time series of selected features stored in the RMF file"
   ]
  },
  {
   "cell_type": "code",
   "execution_count": null,
   "metadata": {
    "scrolled": true
   },
   "outputs": [],
   "source": [
    "# To reduce I/O, we can store the data structure internal to hh, \n",
    "# so that it is not read directly from the files\n",
    "# and it is faster\n",
    "\n",
    "data=hh.data\n",
    "\n",
    "# Then we plot the scores\n",
    "plot([x.score for x in data])\n",
    "\n",
    "figure() \n",
    "\n",
    "# finally we plot the distance of two crosslinked residues\n",
    "plot([float(x.features[\"CrossLinkingMassSpectrometryRestraint_Score_|XL|29.APO.1|C31|91|C160|1458|0|CLASS_0|\"]) for x in data]);\n",
    "\n"
   ]
  },
  {
   "cell_type": "markdown",
   "metadata": {},
   "source": [
    "Additionally, we can draw the scatter plot between ld-Scores and distances"
   ]
  },
  {
   "cell_type": "code",
   "execution_count": null,
   "metadata": {},
   "outputs": [],
   "source": [
    "scores={}\n",
    "\n",
    "for xl in xl1: \n",
    "    if not xl['IntraRigidBody']:\n",
    "        scores.update({xl['XLUniqueSubID']:float(xl['IDScore'])})\n",
    "    \n",
    "\n",
    "x=[]\n",
    "y=[]\n",
    "for k in data[0].features.keys():\n",
    "    if \"Distance\" in k:\n",
    "        id=k.split(\"|\")[2]\n",
    "        if id in scores:\n",
    "            x.append(scores[id])\n",
    "            y.append(float(data[2].features[k]))\n",
    "\n",
    "scatter(x,y);"
   ]
  },
  {
   "cell_type": "markdown",
   "metadata": {},
   "source": [
    "## Stage 4 - Analysis <a name=\"Analysis_3\"></a>\n",
    "\n",
    "In the analysis stage we cluster (group by similarity) the sampled models to determine high-probability configurations. Comparing clusters may indicate that there are multiple acceptable configurations given the data. \n",
    "\n",
    "In this stage we perform several analysis.  Here, we will perform calculations for:\n",
    "\n",
    "* **Clustering**: Grouping the structure together using similarity via RMSD\n",
    "* **Cluster Uncertainty**: Determining the within-group precision and between-group similarity via RMSD\n",
    "* **Cluster Accuracy**: Fit of the calculated clusters to the true (known) solution\n",
    "* **Sampling Exhaustiveness**: Qualitative and quantitative measurement of sampling completeness\n",
    "\n",
    "### Precomputed results <a name=\"Precomputed_Results_3\"></a>\n",
    "\n",
    "A long modeling run was precomputed and analyzed. You can [download] it from our website, and you can [download](https://zenodo.org/record/3523241#.XbtB0y2ZMY2) from the Zenodo repository. For your convenience, the 150 best scoring models from each run were extracted and put in the `results` directory under the names `150_xl.rmf`: the XL-only modeling run; `150_xl_cryoem_1.rmf`: the first refinement of the XL+cryoEM modeling run; `150_xl_cryoem_2.rmf`: the second refinement of the XL+cryoEM modeling run; `150_xl_cryoem_1.rmf`: the third and last refinement of the XL+cryoEM modeling run. \n",
    "\n",
    "### Clustering top models <a name=\"Clustering_3\"></a>\n",
    "We use the [AnalysisReplicaExchange](https://integrativemodeling.org/nightly/doc/ref/classIMP_1_1pmi_1_1macros_1_1AnalysisReplicaExchange.html) class, which finds top-scoring models, extracts coordinates, runs clustering, and does basic cluster analysis including creating localization densities for each subunit. The script generates RMF, MRC files which should be viewable in Chimera.\n",
    "\n",
    "We can choose the number of clusters by changing the distance threshold, the subunits we want to use to calculate the RMSD, and the number of good-scoring solutions to include."
   ]
  },
  {
   "cell_type": "markdown",
   "metadata": {},
   "source": [
    "If we perform sampling multiple times separately, they can all be analyzed at the same time by appending to list of stat files. The `best_models` parameter set the number of best scoring models to be analyzed. Note that we use `alignment=False`. This is needed in case there is no absolute reference frame (like an EM map)."
   ]
  },
  {
   "cell_type": "code",
   "execution_count": null,
   "metadata": {},
   "outputs": [],
   "source": [
    "are=IMP.pmi.macros.AnalysisReplicaExchange(m,\n",
    "                 [\"./results/150_xl_cryoem_3.rmf\"],\n",
    "                 best_models=150,\n",
    "                 alignment=False)\n",
    "\n",
    "print(are)"
   ]
  },
  {
   "cell_type": "markdown",
   "metadata": {},
   "source": [
    "Then, we start the clustering. \n",
    "We specify the components used in calculating the RMSD between models. \n",
    "Then we cluster using a rmsd threshold of 10 Angstroms."
   ]
  },
  {
   "cell_type": "code",
   "execution_count": null,
   "metadata": {},
   "outputs": [],
   "source": [
    "are.set_rmsd_selection(molecules=[\"C31\",\"C34\",\"C53\",\"C37\",\"C82\"])\n",
    "\n",
    "are.cluster(10.0)"
   ]
  },
  {
   "cell_type": "markdown",
   "metadata": {},
   "source": [
    "For each cluster, we can print its information"
   ]
  },
  {
   "cell_type": "code",
   "execution_count": null,
   "metadata": {},
   "outputs": [],
   "source": [
    "# see the content of the \"are\" object\n",
    "print(are)\n",
    "\n",
    "#print the cluster info\n",
    "for cluster in are:\n",
    "    print(cluster)"
   ]
  },
  {
   "cell_type": "markdown",
   "metadata": {},
   "source": [
    "We can get a given cluster by using the square bracket, as in lists, for instance `are[0]` is the cluster with index 0. We can iterate on the members of the cluster to display the infos. Afterwords, we save the coordinates of the cluster in a rmf file."
   ]
  },
  {
   "cell_type": "code",
   "execution_count": null,
   "metadata": {},
   "outputs": [],
   "source": [
    "for member in are[0]:\n",
    "    print(member)\n",
    "    \n",
    "are.save_coordinates(are[0])"
   ]
  },
  {
   "cell_type": "markdown",
   "metadata": {},
   "source": [
    "Next we can examine the distances between all cluster members. A plot is output to a single file in the clustering directory. The first plot is the distance matrix of the models after being grouped into clusters. \n",
    "\n",
    "The second plot is a dendrogram, basically showing the distance matrix in a hierarchical way. Each vertical line from the bottom is a model, and the horizontal lines show the RMSD agreement between models. Sometimes the dendrogram can indicate a natural number of clusters, which can help determine the correct threshold to use. \n",
    "\n",
    "<img src=\"images/rnapoliii_rmsd_plot.png\" alt=\"Distance matrix and dendrogram\" width=\"600px\" />\n"
   ]
  },
  {
   "cell_type": "code",
   "execution_count": null,
   "metadata": {},
   "outputs": [],
   "source": [
    "# slow!\n",
    "are.plot_rmsd_matrix(\"rmsd_matrix.pdf\")"
   ]
  },
  {
   "cell_type": "markdown",
   "metadata": {},
   "source": [
    "### Bayesian crosslink restraint"
   ]
  },
  {
   "cell_type": "markdown",
   "metadata": {},
   "source": [
    "For what concern the *Bayesian crosslink restraint*, we can plot the three classes (low-, mid-, and high-confidence) the distances of the crosslinks, as well as the corresponding values of the variables psi and sigma. "
   ]
  },
  {
   "cell_type": "code",
   "execution_count": null,
   "metadata": {},
   "outputs": [],
   "source": [
    "keys=[k for k in are[0][0].features.keys() if \"CrossLinkingMassSpectrometryRestraint\" in k]\n",
    "figure()\n",
    "for ind in [\"0\",\"1\",\"2\"]:\n",
    "    distances={}\n",
    "    psi=[]\n",
    "    sigma=[]\n",
    "    for member in are[0]:\n",
    "        for k in keys:\n",
    "            if \"CLASS_\"+str(ind) in k and \"Distance\" in k:\n",
    "                if k in distances:\n",
    "                    distances[k].append(float(member.features[k]))\n",
    "                else:\n",
    "                    distances[k]=[float(member.features[k])]\n",
    "            if \"CLASS_\"+str(ind) in k and \"Psi\" in k and \"MonteCarlo\" not in k:\n",
    "                psi.append(float(member.features[k]))\n",
    "            if \"SIGMA\" in k and \"Sigma\" in k and \"MonteCarlo\" not in k:\n",
    "                sigma.append(float(member.features[k]))\n",
    "\n",
    "    x=[distances[k] for k in distances]\n",
    "    pylab.boxplot(x);\n",
    "    figure()\n",
    "    pylab.plot(range(len(psi)),psi);\n",
    "    figure()\n",
    "pylab.plot(range(len(sigma)),sigma);"
   ]
  },
  {
   "cell_type": "markdown",
   "metadata": {},
   "source": [
    "> ### Create a seed<a name=\"seed_3\"></a>\n",
    ">\n",
    "> As discussed above, a seed needs to be generated to use the iterative refinement protocol. A seed is a set of conformations, sampled during the modeling, which will be used to start each replica of the Replica Exchange sampling algorithm. In this case we need 48 structures in our seed.\n"
   ]
  },
  {
   "cell_type": "code",
   "execution_count": null,
   "metadata": {},
   "outputs": [],
   "source": [
    "### build the seed \n",
    "\n",
    "are.write_seed(\"seed.rmf3\", 48)"
   ]
  },
  {
   "cell_type": "markdown",
   "metadata": {},
   "source": [
    "### Structural uncertainty of the solutions <a name=\"uncertainty_3\"></a>\n",
    "\n",
    "The cluster center can be computed as the median structure. After that one can compute the precision of the cluster, as well as the average distance between two clusters."
   ]
  },
  {
   "cell_type": "code",
   "execution_count": null,
   "metadata": {},
   "outputs": [],
   "source": [
    "are.compute_cluster_center(cluster=are[0])\n",
    "print(are.precision(cluster=are[0]))\n",
    "print(are.bipartite_precision(cluster1=are[0],cluster2=are[1]))"
   ]
  },
  {
   "cell_type": "markdown",
   "metadata": {},
   "source": [
    "We can plot the root mean square fluctuation (rmsf) of a given molecule in a given cluster."
   ]
  },
  {
   "cell_type": "code",
   "execution_count": null,
   "metadata": {},
   "outputs": [],
   "source": [
    "rmsf1=are.rmsf(cluster=are[0],molecule='C31');\n",
    "plot(list(rmsf1.keys()),list(rmsf1.values()),marker=\".\",linewidth=0)\n",
    "figure()\n",
    "\n",
    "rmsf2=are.rmsf(cluster=are[0],molecule='C34');\n",
    "plot(list(rmsf2.keys()),list(rmsf2.values()),marker=\".\",linewidth=0)"
   ]
  },
  {
   "cell_type": "markdown",
   "metadata": {},
   "source": [
    "And compute the the rmsf for all molecules and map the value on the structure. Finally we save the colored coordinates in a rmf file.\n",
    "\n",
    "<img src=\"images/rnapoliii_rmsf.png\" alt=\"Structural uncertainty\" width=\"600px\" />"
   ]
  },
  {
   "cell_type": "code",
   "execution_count": null,
   "metadata": {},
   "outputs": [],
   "source": [
    "for mol in ['ABC23','ABC10beta','ABC14_5','ABC27','C25','AC40','C160','ABC10alpha','C128','AC19','C11','C17','C31','C34','C53','C37','C82']: \n",
    "    are.rmsf(cluster=are[0],molecule=mol);\n",
    "ch1=IMP.pmi.tools.ColorHierarchy(are.stath1)\n",
    "ch1.color_by_uncertainty()\n",
    "are.save_coordinates(are[0])"
   ]
  },
  {
   "cell_type": "markdown",
   "metadata": {},
   "source": [
    "We can save the localization densities of a given cluster, for given groups of molecules.\n",
    "Now we specify the subunits (or groups or fractions of subunits) for which we want to create density localization maps. \n",
    "`density_names` is a dictionary, where the keys are convenient names like \"C31\" and the values are a list of selections. \n",
    "\n",
    "The localization densities can give a qualitative idea of the precision of a cluster. Below we show results from `Cluster-0` in the provided results. The localizations are quite narrow and close to the native solution:\n",
    "\n",
    "<img src=\"images/rnapoliii_density.png\" alt=\"Localization densities\" width=\"600px\" />"
   ]
  },
  {
   "cell_type": "code",
   "execution_count": null,
   "metadata": {},
   "outputs": [],
   "source": [
    "density_names={'core': ['ABC23','ABC10beta','ABC14_5','ABC27','C25','AC40','C160','ABC10alpha','C128','AC19','C11','C17'],\n",
    "               'C53': ['C53'], \n",
    "               'C37': ['C37'], \n",
    "               'C34': ['C34'], \n",
    "               'C82': ['C82'], \n",
    "               'C31': ['C31']}\n",
    "\n",
    "# you can iterate on the clusters\n",
    "for n,a in enumerate(are):\n",
    "    are.save_densities(cluster=a,density_custom_ranges=density_names,prefix=\"Cluster-\"+str(n))"
   ]
  },
  {
   "cell_type": "markdown",
   "metadata": {},
   "source": [
    "We can compute the global contact map of the whole complex for the cluster.\n",
    "\n",
    "<img src=\"images/rnapoliii_contact_map.png\" alt=\"Localization densities\" width=\"600px\" />"
   ]
  },
  {
   "cell_type": "code",
   "execution_count": null,
   "metadata": {
    "scrolled": true
   },
   "outputs": [],
   "source": [
    "# it is slow\n",
    "are.contact_map(cluster=are[0]);"
   ]
  },
  {
   "cell_type": "markdown",
   "metadata": {},
   "source": [
    "### Ensemble analysis"
   ]
  },
  {
   "cell_type": "markdown",
   "metadata": {},
   "source": [
    "Using the script in `rnapoliii/modeling/results/ensemble.py` you can get the analysis above for the four different ensembles of solutions: XL, XL+cryoEM with 50 gaussians (step 1), XL+cryoEM with 200 gaussians (step 2), XL+cryoEM with 800 gaussians (step 3). In the same directory you can find the files related to this analysis. Here below you can compare the results from the rmsf and localization (volume threshold set to 0.3 on all images)\n",
    "\n",
    "<img src=\"images/rnapoliii_xl_ensemble.png\" alt=\"Localization densities\" width=\"400px\" />\n",
    "<figcaption>_RMSF of the XL ensemble_</figcaption></figure>\n",
    "\n",
    "> <img src=\"images/rnapoliii_xl_cryoem_1_ensemble.png\" alt=\"Localization densities\" width=\"350px\" />\n",
    "> <figcaption>_RMSF of the XL cryoEM step 1 ensemble_</figcaption></figure>\n",
    "\n",
    "> <img src=\"images/rnapoliii_xl_cryoem_2_ensemble.png\" alt=\"Localization densities\" width=\"400px\" />\n",
    "> <figcaption>_RMSF of the XL cryoEM step 2 ensemble_</figcaption></figure>\n",
    "\n",
    "> <img src=\"images/rnapoliii_xl_cryoem_3_ensemble.png\" alt=\"Localization densities\" width=\"400px\" />\n",
    "> <figcaption>_RMSF of the XL cryoEM step 3 ensemble_</figcaption></figure>\n",
    "\n",
    "<img src=\"images/rnapoliii_xl_ensemble_localization_0.3.png\" alt=\"Localization densities\" width=\"380px\" />\n",
    "<figcaption>_Localization of the XL ensemble_</figcaption></figure>\n",
    "\n",
    "> <img src=\"images/rnapoliii_xl_cryoem_1_ensemble_localization_0.3.png\" alt=\"Localization densities\" width=\"400px\" />\n",
    "> <figcaption>_Localization of the XL cryoEM step 1 ensemble_</figcaption></figure>\n",
    "\n",
    "> <img src=\"images/rnapoliii_xl_cryoem_2_ensemble_localization_0.3.png\" alt=\"Localization densities\" width=\"400px\" />\n",
    "> <figcaption>_Localization of the XL cryoEM step 2 ensemble_</figcaption></figure>\n",
    "\n",
    "> <img src=\"images/rnapoliii_xl_cryoem_3_ensemble_localization_0.3.png\" alt=\"Localization densities\" width=\"380px\" />\n",
    "> <figcaption>_Localization of the XL cryoEM step 3 ensemble_</figcaption></figure>"
   ]
  },
  {
   "cell_type": "markdown",
   "metadata": {},
   "source": [
    "### Sampling Exhaustiveness <a name=\"Sampling_Exhaustiveness_3\"></a>\n",
    "We can also determine sampling exhaustiveness by dividing the models into multiple sets, performing clustering on each set separately, and comparing the clusters. This is covered in the separate analysis tutorial in `rnapoliii/analysis`"
   ]
  },
  {
   "cell_type": "markdown",
   "metadata": {},
   "source": [
    "### Model deposition"
   ]
  },
  {
   "cell_type": "markdown",
   "metadata": {},
   "source": [
    "In `rnapoliii/deposition` we will describe the procedure used to deposit integrative modeling studies in the [PDB-Dev](https://pdb-dev.wwpdb.org/) database in mmCIF format."
   ]
  }
 ],
 "metadata": {
  "kernelspec": {
   "display_name": "Python 3 (ipykernel)",
   "language": "python",
   "name": "python3"
  },
  "language_info": {
   "codemirror_mode": {
    "name": "ipython",
    "version": 3
   },
   "file_extension": ".py",
   "mimetype": "text/x-python",
   "name": "python",
   "nbconvert_exporter": "python",
   "pygments_lexer": "ipython3",
   "version": "3.10.8"
  }
 },
 "nbformat": 4,
 "nbformat_minor": 1
}
